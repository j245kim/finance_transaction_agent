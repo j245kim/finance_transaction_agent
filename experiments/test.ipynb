{
 "cells": [
  {
   "cell_type": "code",
   "execution_count": 1,
   "metadata": {},
   "outputs": [
    {
     "data": {
      "text/plain": [
       "True"
      ]
     },
     "execution_count": 1,
     "metadata": {},
     "output_type": "execute_result"
    }
   ],
   "source": [
    "from dotenv import load_dotenv\n",
    "\n",
    "# API KEY 정보로드\n",
    "load_dotenv()"
   ]
  },
  {
   "cell_type": "code",
   "execution_count": 2,
   "metadata": {},
   "outputs": [],
   "source": [
    "from langchain_core.prompts import PromptTemplate"
   ]
  },
  {
   "cell_type": "code",
   "execution_count": 4,
   "metadata": {},
   "outputs": [
    {
     "name": "stdout",
     "output_type": "stream",
     "text": [
      "Collecting langchain-teddynote\n",
      "  Using cached langchain_teddynote-0.3.41-py3-none-any.whl.metadata (707 bytes)\n",
      "Requirement already satisfied: langchain in c:\\users\\rmarket\\anaconda3\\envs\\project\\lib\\site-packages (from langchain-teddynote) (0.3.15)\n",
      "Requirement already satisfied: langgraph in c:\\users\\rmarket\\anaconda3\\envs\\project\\lib\\site-packages (from langchain-teddynote) (0.2.66)\n",
      "Requirement already satisfied: kiwipiepy in c:\\users\\rmarket\\anaconda3\\envs\\project\\lib\\site-packages (from langchain-teddynote) (0.20.3)\n",
      "Requirement already satisfied: rank_bm25 in c:\\users\\rmarket\\anaconda3\\envs\\project\\lib\\site-packages (from langchain-teddynote) (0.2.2)\n",
      "Requirement already satisfied: pinecone-client[grpc] in c:\\users\\rmarket\\anaconda3\\envs\\project\\lib\\site-packages (from langchain-teddynote) (5.0.1)\n",
      "Requirement already satisfied: pinecone-text in c:\\users\\rmarket\\anaconda3\\envs\\project\\lib\\site-packages (from langchain-teddynote) (0.9.0)\n",
      "Requirement already satisfied: olefile in c:\\users\\rmarket\\anaconda3\\envs\\project\\lib\\site-packages (from langchain-teddynote) (0.47)\n",
      "Requirement already satisfied: pdf2image in c:\\users\\rmarket\\anaconda3\\envs\\project\\lib\\site-packages (from langchain-teddynote) (1.17.0)\n",
      "Requirement already satisfied: openai in c:\\users\\rmarket\\anaconda3\\envs\\project\\lib\\site-packages (from langchain-teddynote) (1.60.0)\n",
      "Requirement already satisfied: anthropic in c:\\users\\rmarket\\anaconda3\\envs\\project\\lib\\site-packages (from langchain-teddynote) (0.44.0)\n",
      "Requirement already satisfied: deepl in c:\\users\\rmarket\\anaconda3\\envs\\project\\lib\\site-packages (from langchain-teddynote) (1.21.0)\n",
      "Requirement already satisfied: feedparser in c:\\users\\rmarket\\anaconda3\\envs\\project\\lib\\site-packages (from langchain-teddynote) (6.0.11)\n",
      "Requirement already satisfied: tavily-python in c:\\users\\rmarket\\anaconda3\\envs\\project\\lib\\site-packages (from langchain-teddynote) (0.5.0)\n",
      "Requirement already satisfied: pandas in c:\\users\\rmarket\\anaconda3\\envs\\project\\lib\\site-packages (from langchain-teddynote) (2.2.3)\n",
      "Requirement already satisfied: anyio<5,>=3.5.0 in c:\\users\\rmarket\\anaconda3\\envs\\project\\lib\\site-packages (from anthropic->langchain-teddynote) (4.8.0)\n",
      "Requirement already satisfied: distro<2,>=1.7.0 in c:\\users\\rmarket\\anaconda3\\envs\\project\\lib\\site-packages (from anthropic->langchain-teddynote) (1.9.0)\n",
      "Requirement already satisfied: httpx<1,>=0.23.0 in c:\\users\\rmarket\\anaconda3\\envs\\project\\lib\\site-packages (from anthropic->langchain-teddynote) (0.28.1)\n",
      "Requirement already satisfied: jiter<1,>=0.4.0 in c:\\users\\rmarket\\anaconda3\\envs\\project\\lib\\site-packages (from anthropic->langchain-teddynote) (0.8.2)\n",
      "Requirement already satisfied: pydantic<3,>=1.9.0 in c:\\users\\rmarket\\anaconda3\\envs\\project\\lib\\site-packages (from anthropic->langchain-teddynote) (2.10.5)\n",
      "Requirement already satisfied: sniffio in c:\\users\\rmarket\\anaconda3\\envs\\project\\lib\\site-packages (from anthropic->langchain-teddynote) (1.3.1)\n",
      "Requirement already satisfied: typing-extensions<5,>=4.10 in c:\\users\\rmarket\\anaconda3\\envs\\project\\lib\\site-packages (from anthropic->langchain-teddynote) (4.12.2)\n",
      "Requirement already satisfied: requests<3,>=2 in c:\\users\\rmarket\\anaconda3\\envs\\project\\lib\\site-packages (from deepl->langchain-teddynote) (2.32.3)\n",
      "Requirement already satisfied: sgmllib3k in c:\\users\\rmarket\\anaconda3\\envs\\project\\lib\\site-packages (from feedparser->langchain-teddynote) (1.0.0)\n",
      "Requirement already satisfied: kiwipiepy_model<0.21,>=0.20 in c:\\users\\rmarket\\anaconda3\\envs\\project\\lib\\site-packages (from kiwipiepy->langchain-teddynote) (0.20.0)\n",
      "Requirement already satisfied: numpy in c:\\users\\rmarket\\anaconda3\\envs\\project\\lib\\site-packages (from kiwipiepy->langchain-teddynote) (1.26.4)\n",
      "Requirement already satisfied: tqdm in c:\\users\\rmarket\\anaconda3\\envs\\project\\lib\\site-packages (from kiwipiepy->langchain-teddynote) (4.67.1)\n",
      "Requirement already satisfied: PyYAML>=5.3 in c:\\users\\rmarket\\anaconda3\\envs\\project\\lib\\site-packages (from langchain->langchain-teddynote) (6.0.2)\n",
      "Requirement already satisfied: SQLAlchemy<3,>=1.4 in c:\\users\\rmarket\\anaconda3\\envs\\project\\lib\\site-packages (from langchain->langchain-teddynote) (2.0.37)\n",
      "Requirement already satisfied: aiohttp<4.0.0,>=3.8.3 in c:\\users\\rmarket\\anaconda3\\envs\\project\\lib\\site-packages (from langchain->langchain-teddynote) (3.11.11)\n",
      "Requirement already satisfied: langchain-core<0.4.0,>=0.3.31 in c:\\users\\rmarket\\anaconda3\\envs\\project\\lib\\site-packages (from langchain->langchain-teddynote) (0.3.31)\n",
      "Requirement already satisfied: langchain-text-splitters<0.4.0,>=0.3.3 in c:\\users\\rmarket\\anaconda3\\envs\\project\\lib\\site-packages (from langchain->langchain-teddynote) (0.3.5)\n",
      "Requirement already satisfied: langsmith<0.4,>=0.1.17 in c:\\users\\rmarket\\anaconda3\\envs\\project\\lib\\site-packages (from langchain->langchain-teddynote) (0.3.1)\n",
      "Requirement already satisfied: tenacity!=8.4.0,<10,>=8.1.0 in c:\\users\\rmarket\\anaconda3\\envs\\project\\lib\\site-packages (from langchain->langchain-teddynote) (9.0.0)\n",
      "Requirement already satisfied: langgraph-checkpoint<3.0.0,>=2.0.10 in c:\\users\\rmarket\\anaconda3\\envs\\project\\lib\\site-packages (from langgraph->langchain-teddynote) (2.0.10)\n",
      "Requirement already satisfied: langgraph-sdk<0.2.0,>=0.1.42 in c:\\users\\rmarket\\anaconda3\\envs\\project\\lib\\site-packages (from langgraph->langchain-teddynote) (0.1.51)\n",
      "Requirement already satisfied: python-dateutil>=2.8.2 in c:\\users\\rmarket\\anaconda3\\envs\\project\\lib\\site-packages (from pandas->langchain-teddynote) (2.9.0.post0)\n",
      "Requirement already satisfied: pytz>=2020.1 in c:\\users\\rmarket\\anaconda3\\envs\\project\\lib\\site-packages (from pandas->langchain-teddynote) (2024.2)\n",
      "Requirement already satisfied: tzdata>=2022.7 in c:\\users\\rmarket\\anaconda3\\envs\\project\\lib\\site-packages (from pandas->langchain-teddynote) (2025.1)\n",
      "Requirement already satisfied: pillow in c:\\users\\rmarket\\anaconda3\\envs\\project\\lib\\site-packages (from pdf2image->langchain-teddynote) (11.1.0)\n",
      "Requirement already satisfied: certifi>=2019.11.17 in c:\\users\\rmarket\\anaconda3\\envs\\project\\lib\\site-packages (from pinecone-client[grpc]->langchain-teddynote) (2024.12.14)\n",
      "Requirement already satisfied: googleapis-common-protos>=1.53.0 in c:\\users\\rmarket\\anaconda3\\envs\\project\\lib\\site-packages (from pinecone-client[grpc]->langchain-teddynote) (1.66.0)\n",
      "Requirement already satisfied: grpcio>=1.59.0 in c:\\users\\rmarket\\anaconda3\\envs\\project\\lib\\site-packages (from pinecone-client[grpc]->langchain-teddynote) (1.69.0)\n",
      "Requirement already satisfied: lz4>=3.1.3 in c:\\users\\rmarket\\anaconda3\\envs\\project\\lib\\site-packages (from pinecone-client[grpc]->langchain-teddynote) (4.3.3)\n",
      "Requirement already satisfied: pinecone-plugin-inference<2.0.0,>=1.0.3 in c:\\users\\rmarket\\anaconda3\\envs\\project\\lib\\site-packages (from pinecone-client[grpc]->langchain-teddynote) (1.1.0)\n",
      "Requirement already satisfied: pinecone-plugin-interface<0.0.8,>=0.0.7 in c:\\users\\rmarket\\anaconda3\\envs\\project\\lib\\site-packages (from pinecone-client[grpc]->langchain-teddynote) (0.0.7)\n",
      "Requirement already satisfied: protobuf<5.0,>=4.25 in c:\\users\\rmarket\\anaconda3\\envs\\project\\lib\\site-packages (from pinecone-client[grpc]->langchain-teddynote) (4.25.5)\n",
      "Requirement already satisfied: protoc-gen-openapiv2<0.0.2,>=0.0.1 in c:\\users\\rmarket\\anaconda3\\envs\\project\\lib\\site-packages (from pinecone-client[grpc]->langchain-teddynote) (0.0.1)\n",
      "Requirement already satisfied: urllib3>=1.26.0 in c:\\users\\rmarket\\anaconda3\\envs\\project\\lib\\site-packages (from pinecone-client[grpc]->langchain-teddynote) (2.3.0)\n",
      "Requirement already satisfied: mmh3<5.0.0,>=4.1.0 in c:\\users\\rmarket\\anaconda3\\envs\\project\\lib\\site-packages (from pinecone-text->langchain-teddynote) (4.1.0)\n",
      "Requirement already satisfied: nltk<4.0.0,>=3.6.5 in c:\\users\\rmarket\\anaconda3\\envs\\project\\lib\\site-packages (from pinecone-text->langchain-teddynote) (3.9.1)\n",
      "Requirement already satisfied: python-dotenv<2.0.0,>=1.0.1 in c:\\users\\rmarket\\anaconda3\\envs\\project\\lib\\site-packages (from pinecone-text->langchain-teddynote) (1.0.1)\n",
      "Requirement already satisfied: types-requests<3.0.0,>=2.25.0 in c:\\users\\rmarket\\anaconda3\\envs\\project\\lib\\site-packages (from pinecone-text->langchain-teddynote) (2.32.0.20241016)\n",
      "Requirement already satisfied: wget<4.0,>=3.2 in c:\\users\\rmarket\\anaconda3\\envs\\project\\lib\\site-packages (from pinecone-text->langchain-teddynote) (3.2)\n",
      "Requirement already satisfied: tiktoken>=0.5.1 in c:\\users\\rmarket\\anaconda3\\envs\\project\\lib\\site-packages (from tavily-python->langchain-teddynote) (0.8.0)\n",
      "Requirement already satisfied: aiohappyeyeballs>=2.3.0 in c:\\users\\rmarket\\anaconda3\\envs\\project\\lib\\site-packages (from aiohttp<4.0.0,>=3.8.3->langchain->langchain-teddynote) (2.4.4)\n",
      "Requirement already satisfied: aiosignal>=1.1.2 in c:\\users\\rmarket\\anaconda3\\envs\\project\\lib\\site-packages (from aiohttp<4.0.0,>=3.8.3->langchain->langchain-teddynote) (1.3.2)\n",
      "Requirement already satisfied: attrs>=17.3.0 in c:\\users\\rmarket\\anaconda3\\envs\\project\\lib\\site-packages (from aiohttp<4.0.0,>=3.8.3->langchain->langchain-teddynote) (24.3.0)\n",
      "Requirement already satisfied: frozenlist>=1.1.1 in c:\\users\\rmarket\\anaconda3\\envs\\project\\lib\\site-packages (from aiohttp<4.0.0,>=3.8.3->langchain->langchain-teddynote) (1.5.0)\n",
      "Requirement already satisfied: multidict<7.0,>=4.5 in c:\\users\\rmarket\\anaconda3\\envs\\project\\lib\\site-packages (from aiohttp<4.0.0,>=3.8.3->langchain->langchain-teddynote) (6.1.0)\n",
      "Requirement already satisfied: propcache>=0.2.0 in c:\\users\\rmarket\\anaconda3\\envs\\project\\lib\\site-packages (from aiohttp<4.0.0,>=3.8.3->langchain->langchain-teddynote) (0.2.1)\n",
      "Requirement already satisfied: yarl<2.0,>=1.17.0 in c:\\users\\rmarket\\anaconda3\\envs\\project\\lib\\site-packages (from aiohttp<4.0.0,>=3.8.3->langchain->langchain-teddynote) (1.18.3)\n",
      "Requirement already satisfied: idna>=2.8 in c:\\users\\rmarket\\anaconda3\\envs\\project\\lib\\site-packages (from anyio<5,>=3.5.0->anthropic->langchain-teddynote) (3.10)\n",
      "Requirement already satisfied: httpcore==1.* in c:\\users\\rmarket\\anaconda3\\envs\\project\\lib\\site-packages (from httpx<1,>=0.23.0->anthropic->langchain-teddynote) (1.0.7)\n",
      "Requirement already satisfied: h11<0.15,>=0.13 in c:\\users\\rmarket\\anaconda3\\envs\\project\\lib\\site-packages (from httpcore==1.*->httpx<1,>=0.23.0->anthropic->langchain-teddynote) (0.14.0)\n",
      "Requirement already satisfied: jsonpatch<2.0,>=1.33 in c:\\users\\rmarket\\anaconda3\\envs\\project\\lib\\site-packages (from langchain-core<0.4.0,>=0.3.31->langchain->langchain-teddynote) (1.33)\n",
      "Requirement already satisfied: packaging<25,>=23.2 in c:\\users\\rmarket\\anaconda3\\envs\\project\\lib\\site-packages (from langchain-core<0.4.0,>=0.3.31->langchain->langchain-teddynote) (24.2)\n",
      "Requirement already satisfied: msgpack<2.0.0,>=1.1.0 in c:\\users\\rmarket\\anaconda3\\envs\\project\\lib\\site-packages (from langgraph-checkpoint<3.0.0,>=2.0.10->langgraph->langchain-teddynote) (1.1.0)\n",
      "Requirement already satisfied: orjson>=3.10.1 in c:\\users\\rmarket\\anaconda3\\envs\\project\\lib\\site-packages (from langgraph-sdk<0.2.0,>=0.1.42->langgraph->langchain-teddynote) (3.10.15)\n",
      "Requirement already satisfied: requests-toolbelt<2.0.0,>=1.0.0 in c:\\users\\rmarket\\anaconda3\\envs\\project\\lib\\site-packages (from langsmith<0.4,>=0.1.17->langchain->langchain-teddynote) (1.0.0)\n",
      "Requirement already satisfied: zstandard<0.24.0,>=0.23.0 in c:\\users\\rmarket\\anaconda3\\envs\\project\\lib\\site-packages (from langsmith<0.4,>=0.1.17->langchain->langchain-teddynote) (0.23.0)\n",
      "Requirement already satisfied: click in c:\\users\\rmarket\\anaconda3\\envs\\project\\lib\\site-packages (from nltk<4.0.0,>=3.6.5->pinecone-text->langchain-teddynote) (8.1.8)\n",
      "Requirement already satisfied: joblib in c:\\users\\rmarket\\anaconda3\\envs\\project\\lib\\site-packages (from nltk<4.0.0,>=3.6.5->pinecone-text->langchain-teddynote) (1.4.2)\n",
      "Requirement already satisfied: regex>=2021.8.3 in c:\\users\\rmarket\\anaconda3\\envs\\project\\lib\\site-packages (from nltk<4.0.0,>=3.6.5->pinecone-text->langchain-teddynote) (2024.11.6)\n",
      "Requirement already satisfied: annotated-types>=0.6.0 in c:\\users\\rmarket\\anaconda3\\envs\\project\\lib\\site-packages (from pydantic<3,>=1.9.0->anthropic->langchain-teddynote) (0.7.0)\n",
      "Requirement already satisfied: pydantic-core==2.27.2 in c:\\users\\rmarket\\anaconda3\\envs\\project\\lib\\site-packages (from pydantic<3,>=1.9.0->anthropic->langchain-teddynote) (2.27.2)\n",
      "Requirement already satisfied: six>=1.5 in c:\\users\\rmarket\\anaconda3\\envs\\project\\lib\\site-packages (from python-dateutil>=2.8.2->pandas->langchain-teddynote) (1.17.0)\n",
      "Requirement already satisfied: charset-normalizer<4,>=2 in c:\\users\\rmarket\\anaconda3\\envs\\project\\lib\\site-packages (from requests<3,>=2->deepl->langchain-teddynote) (3.4.1)\n",
      "Requirement already satisfied: greenlet!=0.4.17 in c:\\users\\rmarket\\anaconda3\\envs\\project\\lib\\site-packages (from SQLAlchemy<3,>=1.4->langchain->langchain-teddynote) (3.1.1)\n",
      "Requirement already satisfied: colorama in c:\\users\\rmarket\\anaconda3\\envs\\project\\lib\\site-packages (from tqdm->kiwipiepy->langchain-teddynote) (0.4.6)\n",
      "Requirement already satisfied: jsonpointer>=1.9 in c:\\users\\rmarket\\anaconda3\\envs\\project\\lib\\site-packages (from jsonpatch<2.0,>=1.33->langchain-core<0.4.0,>=0.3.31->langchain->langchain-teddynote) (3.0.0)\n",
      "Using cached langchain_teddynote-0.3.41-py3-none-any.whl (51 kB)\n",
      "Installing collected packages: langchain-teddynote\n",
      "Successfully installed langchain-teddynote-0.3.41\n"
     ]
    }
   ],
   "source": [
    "!pip install langchain-teddynote"
   ]
  },
  {
   "cell_type": "code",
   "execution_count": 7,
   "metadata": {},
   "outputs": [
    {
     "name": "stdout",
     "output_type": "stream",
     "text": [
      "LangSmith 추적을 시작합니다.\n",
      "[프로젝트명]\n",
      "CH03-OutputParser\n"
     ]
    }
   ],
   "source": [
    "from langchain_teddynote import logging\n",
    "\n",
    "# 프로젝트 이름을 입력합니다.\n",
    "logging.langsmith(\"CH03-OutputParser\")"
   ]
  },
  {
   "cell_type": "code",
   "execution_count": 8,
   "metadata": {},
   "outputs": [
    {
     "name": "stdout",
     "output_type": "stream",
     "text": [
      "[답변]: content='대한민국의 수도는 서울입니다.' additional_kwargs={'refusal': None} response_metadata={'token_usage': {'completion_tokens': 9, 'prompt_tokens': 16, 'total_tokens': 25, 'completion_tokens_details': {'accepted_prediction_tokens': 0, 'audio_tokens': 0, 'reasoning_tokens': 0, 'rejected_prediction_tokens': 0}, 'prompt_tokens_details': {'audio_tokens': 0, 'cached_tokens': 0}}, 'model_name': 'gpt-4o-2024-08-06', 'system_fingerprint': 'fp_4691090a87', 'finish_reason': 'stop', 'logprobs': None} id='run-f32056a5-64f8-4dff-a50e-90d64f96374d-0' usage_metadata={'input_tokens': 16, 'output_tokens': 9, 'total_tokens': 25, 'input_token_details': {'audio': 0, 'cache_read': 0}, 'output_token_details': {'audio': 0, 'reasoning': 0}}\n"
     ]
    }
   ],
   "source": [
    "from langchain_openai import ChatOpenAI\n",
    "\n",
    "# 객체 생성\n",
    "llm = ChatOpenAI(\n",
    "    temperature=0.1,  # 창의성 (0.0 ~ 2.0)\n",
    "    model_name=\"gpt-4o\",  # 모델명\n",
    ")\n",
    "\n",
    "# 질의내용\n",
    "question = \"대한민국의 수도는 어디인가요?\"\n",
    "\n",
    "# 질의\n",
    "print(f\"[답변]: {llm.invoke(question)}\")"
   ]
  },
  {
   "cell_type": "code",
   "execution_count": null,
   "metadata": {},
   "outputs": [],
   "source": []
  }
 ],
 "metadata": {
  "kernelspec": {
   "display_name": "project",
   "language": "python",
   "name": "python3"
  },
  "language_info": {
   "codemirror_mode": {
    "name": "ipython",
    "version": 3
   },
   "file_extension": ".py",
   "mimetype": "text/x-python",
   "name": "python",
   "nbconvert_exporter": "python",
   "pygments_lexer": "ipython3",
   "version": "3.11.11"
  }
 },
 "nbformat": 4,
 "nbformat_minor": 2
}
