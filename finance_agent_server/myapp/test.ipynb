{
 "cells": [
  {
   "cell_type": "code",
   "execution_count": 2,
   "metadata": {},
   "outputs": [
    {
     "name": "stderr",
     "output_type": "stream",
     "text": [
      "c:\\Users\\RMARKET\\anaconda3\\envs\\var-ser\\Lib\\site-packages\\tqdm\\auto.py:21: TqdmWarning: IProgress not found. Please update jupyter and ipywidgets. See https://ipywidgets.readthedocs.io/en/stable/user_install.html\n",
      "  from .autonotebook import tqdm as notebook_tqdm\n"
     ]
    }
   ],
   "source": [
    "import os\n",
    "import json\n",
    "from pathlib import Path\n",
    "\n",
    "from langchain_openai import ChatOpenAI\n",
    "from langchain_core.prompts import PromptTemplate\n",
    "\n",
    "from langchain.embeddings.openai import OpenAIEmbeddings\n",
    "from langchain_openai import ChatOpenAI\n",
    "from langchain.vectorstores import FAISS\n",
    "from langchain.text_splitter import CharacterTextSplitter\n",
    "\n",
    "\n",
    "from dotenv import load_dotenv\n",
    "from llama_cpp import Llama\n",
    "from transformers import AutoTokenizer, PreTrainedTokenizer\n",
    "\n",
    "from pymongo import MongoClient\n",
    "from datetime import datetime, timedelta\n",
    "\n",
    "from django.shortcuts import render\n",
    "from django.http import JsonResponse, FileResponse\n",
    "\n",
    "\n",
    "from pymongo import MongoClient"
   ]
  },
  {
   "cell_type": "code",
   "execution_count": 4,
   "metadata": {},
   "outputs": [
    {
     "data": {
      "text/plain": [
       "str"
      ]
     },
     "execution_count": 4,
     "metadata": {},
     "output_type": "execute_result"
    }
   ],
   "source": [
    "input_string = '머리카락 길이에 대해서 알려줘'\n",
    "\n",
    "load_dotenv()\n",
    "api_key = os.getenv('OPENAI_API_KEY_sesac')\n",
    "llm = ChatOpenAI(\n",
    "    model_name='gpt-4o-mini',\n",
    "    api_key=api_key\n",
    ")\n",
    "\n",
    "prompt = PromptTemplate.from_template('''\n",
    "{message}\n",
    "\n",
    "금융과 무관한 내용을 금융과 억지로 연결 짓지 마세요. \n",
    "금융(예: 주식, 투자, 은행, 대출, 경제 등)과 직접 관련이 있는 경우에만 \"True\"를 반환하고, 그렇지 않다면 \"False\"를 반환하세요.\n",
    "답변은 \"True\" 또는 \"False\"만 출력하세요.\n",
    "''')\n",
    "# 프롬포트 조정 가능합니다.\n",
    "\n",
    "chain = prompt | llm\n",
    "\n",
    "answer = chain.invoke({'message': input_string})\n",
    "\n",
    "answer.content\n",
    "type(answer.content)"
   ]
  },
  {
   "cell_type": "markdown",
   "metadata": {},
   "source": [
    "나의 질문은 금융과 상관이 있다.\n"
   ]
  },
  {
   "cell_type": "code",
   "execution_count": null,
   "metadata": {},
   "outputs": [],
   "source": []
  }
 ],
 "metadata": {
  "kernelspec": {
   "display_name": "var-ser",
   "language": "python",
   "name": "python3"
  },
  "language_info": {
   "codemirror_mode": {
    "name": "ipython",
    "version": 3
   },
   "file_extension": ".py",
   "mimetype": "text/x-python",
   "name": "python",
   "nbconvert_exporter": "python",
   "pygments_lexer": "ipython3",
   "version": "3.11.11"
  }
 },
 "nbformat": 4,
 "nbformat_minor": 2
}
