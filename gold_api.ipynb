{
 "cells": [
  {
   "cell_type": "code",
   "execution_count": 1,
   "metadata": {},
   "outputs": [
    {
     "name": "stdout",
     "output_type": "stream",
     "text": [
      "{\"timestamp\":1739140968,\"metal\":\"XAU\",\"currency\":\"USD\",\"exchange\":\"FOREXCOM\",\"symbol\":\"FOREXCOM:XAUUSD\",\"prev_close_price\":2856.145,\"open_price\":2856.145,\"low_price\":2852.55,\"high_price\":2886.81,\"open_time\":1738886400,\"price\":2860.88,\"ch\":4.74,\"chp\":0.17,\"ask\":2861.59,\"bid\":2860.17,\"price_gram_24k\":91.9794,\"price_gram_22k\":84.3145,\"price_gram_21k\":80.482,\"price_gram_20k\":76.6495,\"price_gram_18k\":68.9846,\"price_gram_16k\":61.3196,\"price_gram_14k\":53.6547,\"price_gram_10k\":38.3248}\n"
     ]
    }
   ],
   "source": [
    "import requests\n",
    "\n",
    "def make_gapi_request():\n",
    "    api_key = \"goldapi-2dxu3lsm6y7hdk6-io\"\n",
    "    symbol = \"XAU\"\n",
    "    curr = \"USD\"\n",
    "    date = \"\"\n",
    "\n",
    "    url = f\"https://www.goldapi.io/api/{symbol}/{curr}{date}\"\n",
    "    \n",
    "    headers = {\n",
    "        \"x-access-token\": api_key,\n",
    "        \"Content-Type\": \"application/json\"\n",
    "    }\n",
    "    \n",
    "    try:\n",
    "        response = requests.get(url, headers=headers)\n",
    "        response.raise_for_status()\n",
    "\n",
    "        result = response.text\n",
    "        print(result)\n",
    "    except requests.exceptions.RequestException as e:\n",
    "        print(\"Error:\", str(e))\n",
    "\n",
    "make_gapi_request()"
   ]
  },
  {
   "cell_type": "code",
   "execution_count": 9,
   "metadata": {},
   "outputs": [
    {
     "name": "stdout",
     "output_type": "stream",
     "text": [
      "최근 1년간 금의 수익률: 43.34%\n"
     ]
    }
   ],
   "source": [
    "## yfinance 사용\n",
    "\n",
    "import yfinance as yf\n",
    "import datetime\n",
    "\n",
    "# 1년 전 날짜 계산\n",
    "today = datetime.date.today()\n",
    "one_year_ago = today - datetime.timedelta(days=365)\n",
    "\n",
    "# 금 가격 데이터 가져오기\n",
    "gold = yf.Ticker(\"GC=F\")  # 금 선물 가격 (COMEX)\n",
    "\n",
    "# 최근 1년 데이터\n",
    "history = gold.history(start=one_year_ago, end=today)\n",
    "\n",
    "# 현재 및 1년 전 금 가격\n",
    "current_price = history[\"Close\"].iloc[-1]  # 최근 종가\n",
    "one_year_ago_price = history[\"Close\"].iloc[0]  # 1년 전 종가\n",
    "\n",
    "# 수익률 계산\n",
    "gold_return = ((current_price - one_year_ago_price) / one_year_ago_price) * 100\n",
    "print(f\"최근 1년간 금의 수익률: {gold_return:.2f}%\")\n"
   ]
  },
  {
   "cell_type": "code",
   "execution_count": null,
   "metadata": {},
   "outputs": [
    {
     "name": "stdout",
     "output_type": "stream",
     "text": [
      "금 가격 데이터를 가져오는 데 실패했습니다.\n"
     ]
    }
   ],
   "source": []
  },
  {
   "cell_type": "code",
   "execution_count": 5,
   "metadata": {},
   "outputs": [
    {
     "data": {
      "text/plain": [
       "2860.88"
      ]
     },
     "execution_count": 5,
     "metadata": {},
     "output_type": "execute_result"
    }
   ],
   "source": [
    "current_price"
   ]
  },
  {
   "cell_type": "code",
   "execution_count": 11,
   "metadata": {},
   "outputs": [
    {
     "name": "stdout",
     "output_type": "stream",
     "text": [
      "최근 1년간 금의 수익률: 41.14%\n"
     ]
    }
   ],
   "source": [
    "import requests\n",
    "\n",
    "def get_gold_price(date=\"\"):\n",
    "    \"\"\" 특정 날짜의 금 시세를 조회하는 함수 \"\"\"\n",
    "    api_key = \"goldapi-2dxu3lsm6y7hdk6-io\"\n",
    "    symbol = \"XAU\"\n",
    "    curr = \"USD\"\n",
    "    \n",
    "    url = f\"https://www.goldapi.io/api/{symbol}/{curr}/{date}\"\n",
    "    \n",
    "    headers = {\n",
    "        \"x-access-token\": api_key,\n",
    "        \"Content-Type\": \"application/json\"\n",
    "    }\n",
    "    \n",
    "    try:\n",
    "        response = requests.get(url, headers=headers)\n",
    "        response.raise_for_status()\n",
    "        data = response.json()\n",
    "        return data.get(\"price\", None)  # 현재 온스당 금 가격\n",
    "    except requests.exceptions.RequestException as e:\n",
    "        print(\"Error:\", str(e))\n",
    "        return None\n",
    "\n",
    "# 현재 금 시세\n",
    "current_price = get_gold_price()\n",
    "\n",
    "# 1년 전 금 시세 (2024-02-10 기준)\n",
    "one_year_ago_price = get_gold_price(\"2024-02-10\")\n",
    "\n",
    "# 수익률 계산\n",
    "if current_price and one_year_ago_price:\n",
    "    gold_return = ((current_price - one_year_ago_price) / one_year_ago_price) * 100\n",
    "    print(f\"최근 1년간 금의 수익률: {gold_return:.2f}%\")\n",
    "else:\n",
    "    print(\"금 가격 데이터를 가져오는 데 실패했습니다.\")"
   ]
  },
  {
   "cell_type": "code",
   "execution_count": null,
   "metadata": {},
   "outputs": [],
   "source": []
  }
 ],
 "metadata": {
  "kernelspec": {
   "display_name": "finance",
   "language": "python",
   "name": "python3"
  },
  "language_info": {
   "codemirror_mode": {
    "name": "ipython",
    "version": 3
   },
   "file_extension": ".py",
   "mimetype": "text/x-python",
   "name": "python",
   "nbconvert_exporter": "python",
   "pygments_lexer": "ipython3",
   "version": "3.12.4"
  }
 },
 "nbformat": 4,
 "nbformat_minor": 2
}
