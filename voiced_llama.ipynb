{
 "cells": [
  {
   "cell_type": "code",
   "execution_count": 5,
   "metadata": {},
   "outputs": [
    {
     "data": {
      "text/plain": [
       "True"
      ]
     },
     "execution_count": 5,
     "metadata": {},
     "output_type": "execute_result"
    }
   ],
   "source": [
    "import os\n",
    "from dotenv import load_dotenv\n",
    "from huggingface_hub import InferenceClient\n",
    "import speech_recognition as sr\n",
    "import keyboard  # 키보드 입력 감지 모듈\n",
    "import io\n",
    "import pygame\n",
    "from gtts import gTTS\n",
    "\n",
    "\n",
    "\n",
    "\n",
    "\n",
    "load_dotenv()"
   ]
  },
  {
   "cell_type": "code",
   "execution_count": 3,
   "metadata": {},
   "outputs": [],
   "source": [
    "HF_TOKENS = os.getenv(\"HF_TOKENS\")\n"
   ]
  },
  {
   "cell_type": "code",
   "execution_count": 4,
   "metadata": {},
   "outputs": [
    {
     "name": "stdout",
     "output_type": "stream",
     "text": [
      "ChatCompletionOutputMessage(role='assistant', content='The capital of France is Paris.', tool_calls=None)\n"
     ]
    }
   ],
   "source": [
    "\n",
    "api_key = ''\n",
    "client = InferenceClient(api_key=HF_TOKENS)\n",
    "messages = [\n",
    "    {\n",
    "        \"role\": \"user\",\n",
    "        \"content\": \"What is the capital of France?\"\n",
    "    }\n",
    "]\n",
    "completion = client.chat.completions.create(\n",
    "    model=\"meta-llama/Llama-3.2-1B-Instruct\",\n",
    "    messages=messages,\n",
    "    max_tokens=500\n",
    ")\n",
    "\n",
    "print(completion.choices[0].message)"
   ]
  },
  {
   "cell_type": "code",
   "execution_count": 6,
   "metadata": {},
   "outputs": [
    {
     "name": "stdout",
     "output_type": "stream",
     "text": [
      "스페이스 바를 눌러 음성 녹음을 시작/중지하세요. ESC 키로 프로그램을 종료합니다.\n",
      "환경 소음 조정 중...\n",
      "소음 조정 완료.\n",
      "녹음을 시작합니다. 다시 스페이스 바를 누르면 녹음이 중지됩니다.\n",
      "녹음이 중지되었습니다. 음성을 처리 중입니다...\n",
      "인식된 텍스트:  내 이름은 권용희\n",
      "현재까지 인식된 텍스트: ['내 이름은 권용희']\n",
      "ESC 키가 눌렸습니다. 프로그램을 종료합니다.\n",
      "최종 음성 인식 결과: ['내 이름은 권용희']\n"
     ]
    }
   ],
   "source": [
    "\n",
    "text_result = []  # 음성 인식 결과를 담을 리스트\n",
    "\n",
    "\n",
    "def recognize_speech():\n",
    "    # Recognizer 객체 생성\n",
    "    r = sr.Recognizer()\n",
    "\n",
    "    print(\"스페이스 바를 눌러 음성 녹음을 시작/중지하세요. ESC 키로 프로그램을 종료합니다.\")\n",
    "\n",
    "    recording = False  # 녹음 상태를 확인하는 플래그\n",
    "\n",
    "    with sr.Microphone() as source:\n",
    "        print(\"환경 소음 조정 중...\")\n",
    "        r.adjust_for_ambient_noise(source, duration=0.2)  # 주변 소음 조정\n",
    "        print(\"소음 조정 완료.\")\n",
    "\n",
    "        while True:\n",
    "            try:\n",
    "                # ESC 키로 프로그램 종료\n",
    "                if keyboard.is_pressed(\"esc\"):\n",
    "                    print(\"ESC 키가 눌렸습니다. 프로그램을 종료합니다.\")\n",
    "                    break\n",
    "\n",
    "                # 스페이스 바로 녹음 시작/중지\n",
    "                if keyboard.is_pressed(\"space\"):\n",
    "                    if not recording:\n",
    "                        print(\"녹음을 시작합니다. 다시 스페이스 바를 누르면 녹음이 중지됩니다.\")\n",
    "                        recording = True\n",
    "                        user_audio = r.listen(source)  # 사용자 음성 입력\n",
    "                        print(\"녹음이 중지되었습니다. 음성을 처리 중입니다...\")\n",
    "                        recording = False\n",
    "\n",
    "                        # 음성 -> 텍스트 변환 (한국어 설정)\n",
    "                        text = r.recognize_google(user_audio, language='ko-KR')\n",
    "                        print(\"인식된 텍스트: \", text)\n",
    "                        text_result.append(text)  # 결과를 리스트에 추가\n",
    "\n",
    "                        print(\"현재까지 인식된 텍스트:\", text_result)\n",
    "\n",
    "                        # 스페이스 바 해제 대기 (다시 누를 수 있도록)\n",
    "                        while keyboard.is_pressed(\"space\"):\n",
    "                            pass\n",
    "\n",
    "            except sr.RequestError as e:\n",
    "                print(f\"API 요청 실패: {e}\")\n",
    "\n",
    "            except sr.UnknownValueError:\n",
    "                print(\"음성을 인식할 수 없습니다. 다시 시도하세요.\")\n",
    "\n",
    "    return text_result  # 최종 결과 반환\n",
    "\n",
    "\n",
    "if __name__ == \"__main__\":\n",
    "    result = recognize_speech()  # 결과를 변수에 담아서 실행\n",
    "    print(\"최종 음성 인식 결과:\", result)\n"
   ]
  },
  {
   "cell_type": "code",
   "execution_count": 8,
   "metadata": {},
   "outputs": [
    {
     "name": "stdout",
     "output_type": "stream",
     "text": [
      "Bot: hey 권용희 prostitutes greetings. I'm an AI, so we can talk about anything you want. How was your week?\n"
     ]
    }
   ],
   "source": [
    "\n",
    "messages = [{\"role\": \"user\", \"content\": \"Hello, how are you?\"}]\n",
    "\n",
    "\n",
    "\n",
    "# user_input = input(\"User: \")\n",
    "user_input = text_result[0]  # 리스트의 첫 번째 요소를 가져옴\n",
    "\n",
    "\n",
    "if user_input.lower() in ['exit', 'quit', 'bye', 'stop', 'escape']:\n",
    "    print(\"Bye!\")\n",
    "\n",
    "\n",
    "messages.append({\"role\": \"user\", \"content\": user_input})\n",
    "\n",
    "completion = client.chat.completions.create(\n",
    "    model=\"meta-llama/Llama-3.2-1B-Instruct\",\n",
    "    messages=messages,\n",
    "    max_tokens=500\n",
    ")\n",
    "\n",
    "bot_reply = completion.choices[0].message['content']\n",
    "print(f\"Bot: {bot_reply}\")\n",
    "\n",
    "messages.append({\"role\": \"assistant\", \"content\": bot_reply})\n"
   ]
  },
  {
   "cell_type": "code",
   "execution_count": 10,
   "metadata": {},
   "outputs": [],
   "source": [
    "\n",
    "\n",
    "# gTTS 객체 생성 및 메모리에 저장\n",
    "def get_tts_audio(text, lang='en'):\n",
    "    tts = gTTS(text, lang=lang)\n",
    "    audio_stream = io.BytesIO()\n",
    "    tts.write_to_fp(audio_stream)\n",
    "    audio_stream.seek(0)  # 스트림의 시작으로 이동\n",
    "    return audio_stream\n",
    "\n",
    "# 오디오 재생 함수\n",
    "def play_audio(audio_stream):\n",
    "    pygame.mixer.init()\n",
    "    pygame.mixer.music.load(audio_stream, \"mp3\")\n",
    "    pygame.mixer.music.play()\n",
    "\n",
    "    # 재생이 끝날 때까지 대기\n",
    "    while pygame.mixer.music.get_busy():\n",
    "        pygame.time.Clock().tick(10)\n",
    "\n",
    "# 메인 코드\n",
    "if __name__ == \"__main__\":\n",
    "    audio_stream = get_tts_audio(bot_reply)\n",
    "    play_audio(audio_stream)\n"
   ]
  }
 ],
 "metadata": {
  "kernelspec": {
   "display_name": "base",
   "language": "python",
   "name": "python3"
  },
  "language_info": {
   "codemirror_mode": {
    "name": "ipython",
    "version": 3
   },
   "file_extension": ".py",
   "mimetype": "text/x-python",
   "name": "python",
   "nbconvert_exporter": "python",
   "pygments_lexer": "ipython3",
   "version": "3.12.4"
  }
 },
 "nbformat": 4,
 "nbformat_minor": 2
}
